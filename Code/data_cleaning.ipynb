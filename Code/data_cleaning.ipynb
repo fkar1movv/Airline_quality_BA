{
 "cells": [
  {
   "cell_type": "markdown",
   "metadata": {},
   "source": [
    "# DATA CLEANING"
   ]
  },
  {
   "cell_type": "markdown",
   "metadata": {},
   "source": [
    "## Importing libraries"
   ]
  },
  {
   "cell_type": "code",
   "execution_count": 1,
   "metadata": {},
   "outputs": [],
   "source": [
    "import pandas as pd\n",
    "import os\n",
    "# Importing regex\n",
    "import re"
   ]
  },
  {
   "cell_type": "code",
   "execution_count": 2,
   "metadata": {},
   "outputs": [],
   "source": [
    "cwd = os.getcwd()\n",
    "df = pd.read_csv(cwd+\"/data/BA_reviews.csv\", index_col=0)"
   ]
  },
  {
   "cell_type": "code",
   "execution_count": 3,
   "metadata": {},
   "outputs": [
    {
     "data": {
      "text/html": [
       "<div>\n",
       "<style scoped>\n",
       "    .dataframe tbody tr th:only-of-type {\n",
       "        vertical-align: middle;\n",
       "    }\n",
       "\n",
       "    .dataframe tbody tr th {\n",
       "        vertical-align: top;\n",
       "    }\n",
       "\n",
       "    .dataframe thead th {\n",
       "        text-align: right;\n",
       "    }\n",
       "</style>\n",
       "<table border=\"1\" class=\"dataframe\">\n",
       "  <thead>\n",
       "    <tr style=\"text-align: right;\">\n",
       "      <th></th>\n",
       "      <th>reviews</th>\n",
       "      <th>stars</th>\n",
       "      <th>date</th>\n",
       "      <th>country</th>\n",
       "    </tr>\n",
       "  </thead>\n",
       "  <tbody>\n",
       "    <tr>\n",
       "      <th>0</th>\n",
       "      <td>Not Verified |  A nightmare journey courtesy o...</td>\n",
       "      <td>5.0</td>\n",
       "      <td>8th September 2024</td>\n",
       "      <td>United Kingdom</td>\n",
       "    </tr>\n",
       "    <tr>\n",
       "      <th>1</th>\n",
       "      <td>✅ Trip Verified | Absolutely atrocious. LHR-OR...</td>\n",
       "      <td>1.0</td>\n",
       "      <td>6th September 2024</td>\n",
       "      <td>United Kingdom</td>\n",
       "    </tr>\n",
       "    <tr>\n",
       "      <th>2</th>\n",
       "      <td>✅ Trip Verified | As someone who flies relentl...</td>\n",
       "      <td>1.0</td>\n",
       "      <td>2nd September 2024</td>\n",
       "      <td>United Kingdom</td>\n",
       "    </tr>\n",
       "    <tr>\n",
       "      <th>3</th>\n",
       "      <td>✅ Trip Verified |   Flew with British Airways ...</td>\n",
       "      <td>4.0</td>\n",
       "      <td>1st September 2024</td>\n",
       "      <td>United Kingdom</td>\n",
       "    </tr>\n",
       "    <tr>\n",
       "      <th>4</th>\n",
       "      <td>✅ Trip Verified |   Straightforward check in T...</td>\n",
       "      <td>2.0</td>\n",
       "      <td>30th August 2024</td>\n",
       "      <td>United Kingdom</td>\n",
       "    </tr>\n",
       "  </tbody>\n",
       "</table>\n",
       "</div>"
      ],
      "text/plain": [
       "                                             reviews  stars  \\\n",
       "0  Not Verified |  A nightmare journey courtesy o...    5.0   \n",
       "1  ✅ Trip Verified | Absolutely atrocious. LHR-OR...    1.0   \n",
       "2  ✅ Trip Verified | As someone who flies relentl...    1.0   \n",
       "3  ✅ Trip Verified |   Flew with British Airways ...    4.0   \n",
       "4  ✅ Trip Verified |   Straightforward check in T...    2.0   \n",
       "\n",
       "                 date         country  \n",
       "0  8th September 2024  United Kingdom  \n",
       "1  6th September 2024  United Kingdom  \n",
       "2  2nd September 2024  United Kingdom  \n",
       "3  1st September 2024  United Kingdom  \n",
       "4    30th August 2024  United Kingdom  "
      ]
     },
     "execution_count": 3,
     "metadata": {},
     "output_type": "execute_result"
    }
   ],
   "source": [
    "df.head()"
   ]
  },
  {
   "cell_type": "code",
   "execution_count": 4,
   "metadata": {},
   "outputs": [],
   "source": [
    "df[\"verified\"] = df.reviews.str.contains(\"Trip Verified\")"
   ]
  },
  {
   "cell_type": "code",
   "execution_count": 5,
   "metadata": {},
   "outputs": [
    {
     "data": {
      "text/plain": [
       "0       False\n",
       "1        True\n",
       "2        True\n",
       "3        True\n",
       "4        True\n",
       "        ...  \n",
       "4395     True\n",
       "4396     True\n",
       "4397     True\n",
       "4398    False\n",
       "4399    False\n",
       "Name: verified, Length: 4400, dtype: bool"
      ]
     },
     "execution_count": 5,
     "metadata": {},
     "output_type": "execute_result"
    }
   ],
   "source": [
    "df[\"verified\"]"
   ]
  },
  {
   "cell_type": "markdown",
   "metadata": {},
   "source": [
    "## Clening reviews"
   ]
  },
  {
   "cell_type": "markdown",
   "metadata": {},
   "source": [
    "#### Clean reviews for semantic analysis"
   ]
  },
  {
   "cell_type": "code",
   "execution_count": 6,
   "metadata": {},
   "outputs": [],
   "source": [
    "# lemmatization of words\n",
    "from nltk.stem  import WordNetLemmatizer\n",
    "from nltk.corpus import stopwords\n",
    "\n",
    "lemma = WordNetLemmatizer()\n",
    "\n",
    "reviews_data = df.reviews.str.strip(\"✅  Trip verified\")\n",
    "\n",
    "#create an empty list to collect cleaned data corpus\n",
    "\n",
    "corpus = []\n",
    "\n",
    "# Make it lowercase and remove punctutation\n",
    "for rev in reviews_data:\n",
    "    rev = re.sub('[^a-zA-Z]', ' ', rev)\n",
    "    rev = rev.lower()\n",
    "    rev = rev.split()\n",
    "    rev = [lemma.lemmatize(word) for word in rev if word not in set(stopwords.words(\"english\"))]\n",
    "    rev = \" \".join(rev)\n",
    "    corpus.append(rev)"
   ]
  },
  {
   "cell_type": "code",
   "execution_count": 7,
   "metadata": {},
   "outputs": [],
   "source": [
    "df['corpus'] = corpus"
   ]
  },
  {
   "cell_type": "code",
   "execution_count": 8,
   "metadata": {},
   "outputs": [
    {
     "data": {
      "text/html": [
       "<div>\n",
       "<style scoped>\n",
       "    .dataframe tbody tr th:only-of-type {\n",
       "        vertical-align: middle;\n",
       "    }\n",
       "\n",
       "    .dataframe tbody tr th {\n",
       "        vertical-align: top;\n",
       "    }\n",
       "\n",
       "    .dataframe thead th {\n",
       "        text-align: right;\n",
       "    }\n",
       "</style>\n",
       "<table border=\"1\" class=\"dataframe\">\n",
       "  <thead>\n",
       "    <tr style=\"text-align: right;\">\n",
       "      <th></th>\n",
       "      <th>reviews</th>\n",
       "      <th>stars</th>\n",
       "      <th>date</th>\n",
       "      <th>country</th>\n",
       "      <th>verified</th>\n",
       "      <th>corpus</th>\n",
       "    </tr>\n",
       "  </thead>\n",
       "  <tbody>\n",
       "    <tr>\n",
       "      <th>0</th>\n",
       "      <td>Not Verified |  A nightmare journey courtesy o...</td>\n",
       "      <td>5.0</td>\n",
       "      <td>8th September 2024</td>\n",
       "      <td>United Kingdom</td>\n",
       "      <td>False</td>\n",
       "      <td>verified nightmare journey courtesy british ai...</td>\n",
       "    </tr>\n",
       "    <tr>\n",
       "      <th>1</th>\n",
       "      <td>✅ Trip Verified | Absolutely atrocious. LHR-OR...</td>\n",
       "      <td>1.0</td>\n",
       "      <td>6th September 2024</td>\n",
       "      <td>United Kingdom</td>\n",
       "      <td>True</td>\n",
       "      <td>verified absolutely atrocious lhr ord lhr roun...</td>\n",
       "    </tr>\n",
       "    <tr>\n",
       "      <th>2</th>\n",
       "      <td>✅ Trip Verified | As someone who flies relentl...</td>\n",
       "      <td>1.0</td>\n",
       "      <td>2nd September 2024</td>\n",
       "      <td>United Kingdom</td>\n",
       "      <td>True</td>\n",
       "      <td>verified someone fly relentlessly british airw...</td>\n",
       "    </tr>\n",
       "    <tr>\n",
       "      <th>3</th>\n",
       "      <td>✅ Trip Verified |   Flew with British Airways ...</td>\n",
       "      <td>4.0</td>\n",
       "      <td>1st September 2024</td>\n",
       "      <td>United Kingdom</td>\n",
       "      <td>True</td>\n",
       "      <td>verified flew british airway club europe satur...</td>\n",
       "    </tr>\n",
       "    <tr>\n",
       "      <th>4</th>\n",
       "      <td>✅ Trip Verified |   Straightforward check in T...</td>\n",
       "      <td>2.0</td>\n",
       "      <td>30th August 2024</td>\n",
       "      <td>United Kingdom</td>\n",
       "      <td>True</td>\n",
       "      <td>verified straightforward check new site club c...</td>\n",
       "    </tr>\n",
       "  </tbody>\n",
       "</table>\n",
       "</div>"
      ],
      "text/plain": [
       "                                             reviews  stars  \\\n",
       "0  Not Verified |  A nightmare journey courtesy o...    5.0   \n",
       "1  ✅ Trip Verified | Absolutely atrocious. LHR-OR...    1.0   \n",
       "2  ✅ Trip Verified | As someone who flies relentl...    1.0   \n",
       "3  ✅ Trip Verified |   Flew with British Airways ...    4.0   \n",
       "4  ✅ Trip Verified |   Straightforward check in T...    2.0   \n",
       "\n",
       "                 date         country  verified  \\\n",
       "0  8th September 2024  United Kingdom     False   \n",
       "1  6th September 2024  United Kingdom      True   \n",
       "2  2nd September 2024  United Kingdom      True   \n",
       "3  1st September 2024  United Kingdom      True   \n",
       "4    30th August 2024  United Kingdom      True   \n",
       "\n",
       "                                              corpus  \n",
       "0  verified nightmare journey courtesy british ai...  \n",
       "1  verified absolutely atrocious lhr ord lhr roun...  \n",
       "2  verified someone fly relentlessly british airw...  \n",
       "3  verified flew british airway club europe satur...  \n",
       "4  verified straightforward check new site club c...  "
      ]
     },
     "execution_count": 8,
     "metadata": {},
     "output_type": "execute_result"
    }
   ],
   "source": [
    "df.head()"
   ]
  },
  {
   "cell_type": "markdown",
   "metadata": {},
   "source": [
    "## Cleaning/Format date"
   ]
  },
  {
   "cell_type": "code",
   "execution_count": 9,
   "metadata": {},
   "outputs": [
    {
     "data": {
      "text/plain": [
       "reviews      object\n",
       "stars       float64\n",
       "date         object\n",
       "country      object\n",
       "verified       bool\n",
       "corpus       object\n",
       "dtype: object"
      ]
     },
     "execution_count": 9,
     "metadata": {},
     "output_type": "execute_result"
    }
   ],
   "source": [
    "df.dtypes"
   ]
  },
  {
   "cell_type": "code",
   "execution_count": 10,
   "metadata": {},
   "outputs": [
    {
     "name": "stdout",
     "output_type": "stream",
     "text": [
      "0      2024-09-08\n",
      "1      2024-09-06\n",
      "2      2024-09-02\n",
      "3      2024-09-01\n",
      "4      2024-08-30\n",
      "          ...    \n",
      "4395   2019-10-09\n",
      "4396   2019-10-09\n",
      "4397   2019-10-09\n",
      "4398   2019-10-08\n",
      "4399   2019-10-08\n",
      "Name: date, Length: 4400, dtype: datetime64[ns]\n"
     ]
    }
   ],
   "source": [
    "def remove_ordinal_suffixes(date_str):\n",
    "    # Remove 'st', 'nd', 'rd', 'th'\n",
    "    return re.sub(r'(\\d+)(st|nd|rd|th)', r'\\1', date_str)\n",
    "\n",
    "# Apply the function to your 'date' column\n",
    "df['date'] = df['date'].apply(remove_ordinal_suffixes)\n",
    "\n",
    "# Now convert to datetime\n",
    "df['date'] = pd.to_datetime(df['date'], format='%d %B %Y')\n",
    "\n",
    "# Verify the result\n",
    "print(df['date'])"
   ]
  },
  {
   "cell_type": "markdown",
   "metadata": {},
   "source": [
    "## Cleaning ratings with stars"
   ]
  },
  {
   "cell_type": "code",
   "execution_count": 11,
   "metadata": {},
   "outputs": [
    {
     "data": {
      "text/plain": [
       "array([ 5.,  1.,  4.,  2.,  8.,  9., 10.,  3.,  6.,  7., nan])"
      ]
     },
     "execution_count": 11,
     "metadata": {},
     "output_type": "execute_result"
    }
   ],
   "source": [
    "df.stars.unique()"
   ]
  },
  {
   "cell_type": "code",
   "execution_count": 12,
   "metadata": {},
   "outputs": [
    {
     "name": "stdout",
     "output_type": "stream",
     "text": [
      "0        5.0\n",
      "1        1.0\n",
      "2        1.0\n",
      "3        4.0\n",
      "4        2.0\n",
      "        ... \n",
      "4395     1.0\n",
      "4396     1.0\n",
      "4397    10.0\n",
      "4398     2.0\n",
      "4399     2.0\n",
      "Name: stars, Length: 4400, dtype: object\n"
     ]
    }
   ],
   "source": [
    "# Ensure the column is of string type\n",
    "df['stars'] = df['stars'].astype(str)\n",
    "\n",
    "# Remove leading and trailing whitespaces including \\n and \\t\n",
    "df['stars'] = df['stars'].str.strip()\n",
    "\n",
    "# Verify the result\n",
    "print(df['stars'])"
   ]
  },
  {
   "cell_type": "code",
   "execution_count": 13,
   "metadata": {},
   "outputs": [
    {
     "data": {
      "text/plain": [
       "stars\n",
       "1.0     1207\n",
       "2.0      506\n",
       "3.0      490\n",
       "8.0      411\n",
       "10.0     349\n",
       "9.0      339\n",
       "7.0      310\n",
       "5.0      290\n",
       "4.0      290\n",
       "6.0      205\n",
       "nan        3\n",
       "Name: count, dtype: int64"
      ]
     },
     "execution_count": 13,
     "metadata": {},
     "output_type": "execute_result"
    }
   ],
   "source": [
    "df.stars.value_counts()"
   ]
  },
  {
   "cell_type": "code",
   "execution_count": 14,
   "metadata": {},
   "outputs": [],
   "source": [
    "# drop the rows where the value of ratings is NaN\n",
    "df.drop(df[df.stars == \"nan\"].index, axis=0, inplace=True)"
   ]
  },
  {
   "cell_type": "code",
   "execution_count": 15,
   "metadata": {},
   "outputs": [
    {
     "data": {
      "text/plain": [
       "array(['5.0', '1.0', '4.0', '2.0', '8.0', '9.0', '10.0', '3.0', '6.0',\n",
       "       '7.0'], dtype=object)"
      ]
     },
     "execution_count": 15,
     "metadata": {},
     "output_type": "execute_result"
    }
   ],
   "source": [
    "#check the unique values again\n",
    "df.stars.unique()"
   ]
  },
  {
   "cell_type": "markdown",
   "metadata": {},
   "source": [
    "## Check for NULL values"
   ]
  },
  {
   "cell_type": "code",
   "execution_count": 16,
   "metadata": {},
   "outputs": [
    {
     "data": {
      "text/plain": [
       "reviews  stars  date   country  verified  corpus\n",
       "False    False  False  False    False     False     4396\n",
       "                       True     False     False        1\n",
       "Name: count, dtype: int64"
      ]
     },
     "execution_count": 16,
     "metadata": {},
     "output_type": "execute_result"
    }
   ],
   "source": [
    "df.isnull().value_counts()"
   ]
  },
  {
   "cell_type": "code",
   "execution_count": 17,
   "metadata": {},
   "outputs": [
    {
     "data": {
      "text/plain": [
       "country\n",
       "United Kingdom        2670\n",
       "United States          572\n",
       "Australia              167\n",
       "Canada                 146\n",
       "Germany                 82\n",
       "                      ... \n",
       "Egypt                    1\n",
       "Laos                     1\n",
       "Indonesia                1\n",
       "Bahrain                  1\n",
       "Dominican Republic       1\n",
       "Name: count, Length: 70, dtype: int64"
      ]
     },
     "execution_count": 17,
     "metadata": {},
     "output_type": "execute_result"
    }
   ],
   "source": [
    "df.country.value_counts()"
   ]
  },
  {
   "cell_type": "code",
   "execution_count": 18,
   "metadata": {},
   "outputs": [],
   "source": [
    "df.drop(df[df.country.isnull() == True].index, axis=0, inplace=True)"
   ]
  },
  {
   "cell_type": "code",
   "execution_count": 19,
   "metadata": {},
   "outputs": [
    {
     "data": {
      "text/plain": [
       "reviews  stars  date   country  verified  corpus\n",
       "False    False  False  False    False     False     4396\n",
       "Name: count, dtype: int64"
      ]
     },
     "execution_count": 19,
     "metadata": {},
     "output_type": "execute_result"
    }
   ],
   "source": [
    "df.isnull().value_counts()"
   ]
  },
  {
   "cell_type": "code",
   "execution_count": 20,
   "metadata": {},
   "outputs": [
    {
     "data": {
      "text/html": [
       "<div>\n",
       "<style scoped>\n",
       "    .dataframe tbody tr th:only-of-type {\n",
       "        vertical-align: middle;\n",
       "    }\n",
       "\n",
       "    .dataframe tbody tr th {\n",
       "        vertical-align: top;\n",
       "    }\n",
       "\n",
       "    .dataframe thead th {\n",
       "        text-align: right;\n",
       "    }\n",
       "</style>\n",
       "<table border=\"1\" class=\"dataframe\">\n",
       "  <thead>\n",
       "    <tr style=\"text-align: right;\">\n",
       "      <th></th>\n",
       "      <th>reviews</th>\n",
       "      <th>stars</th>\n",
       "      <th>date</th>\n",
       "      <th>country</th>\n",
       "      <th>verified</th>\n",
       "      <th>corpus</th>\n",
       "    </tr>\n",
       "  </thead>\n",
       "  <tbody>\n",
       "    <tr>\n",
       "      <th>0</th>\n",
       "      <td>Not Verified |  A nightmare journey courtesy o...</td>\n",
       "      <td>5.0</td>\n",
       "      <td>2024-09-08</td>\n",
       "      <td>United Kingdom</td>\n",
       "      <td>False</td>\n",
       "      <td>verified nightmare journey courtesy british ai...</td>\n",
       "    </tr>\n",
       "    <tr>\n",
       "      <th>1</th>\n",
       "      <td>✅ Trip Verified | Absolutely atrocious. LHR-OR...</td>\n",
       "      <td>1.0</td>\n",
       "      <td>2024-09-06</td>\n",
       "      <td>United Kingdom</td>\n",
       "      <td>True</td>\n",
       "      <td>verified absolutely atrocious lhr ord lhr roun...</td>\n",
       "    </tr>\n",
       "    <tr>\n",
       "      <th>2</th>\n",
       "      <td>✅ Trip Verified | As someone who flies relentl...</td>\n",
       "      <td>1.0</td>\n",
       "      <td>2024-09-02</td>\n",
       "      <td>United Kingdom</td>\n",
       "      <td>True</td>\n",
       "      <td>verified someone fly relentlessly british airw...</td>\n",
       "    </tr>\n",
       "    <tr>\n",
       "      <th>3</th>\n",
       "      <td>✅ Trip Verified |   Flew with British Airways ...</td>\n",
       "      <td>4.0</td>\n",
       "      <td>2024-09-01</td>\n",
       "      <td>United Kingdom</td>\n",
       "      <td>True</td>\n",
       "      <td>verified flew british airway club europe satur...</td>\n",
       "    </tr>\n",
       "    <tr>\n",
       "      <th>4</th>\n",
       "      <td>✅ Trip Verified |   Straightforward check in T...</td>\n",
       "      <td>2.0</td>\n",
       "      <td>2024-08-30</td>\n",
       "      <td>United Kingdom</td>\n",
       "      <td>True</td>\n",
       "      <td>verified straightforward check new site club c...</td>\n",
       "    </tr>\n",
       "    <tr>\n",
       "      <th>...</th>\n",
       "      <td>...</td>\n",
       "      <td>...</td>\n",
       "      <td>...</td>\n",
       "      <td>...</td>\n",
       "      <td>...</td>\n",
       "      <td>...</td>\n",
       "    </tr>\n",
       "    <tr>\n",
       "      <th>4391</th>\n",
       "      <td>✅ Trip Verified | Istanbul to New York via Lon...</td>\n",
       "      <td>1.0</td>\n",
       "      <td>2019-10-09</td>\n",
       "      <td>United States</td>\n",
       "      <td>True</td>\n",
       "      <td>verified istanbul new york via london literall...</td>\n",
       "    </tr>\n",
       "    <tr>\n",
       "      <th>4392</th>\n",
       "      <td>✅ Trip Verified |  Yesterday my husband and I ...</td>\n",
       "      <td>1.0</td>\n",
       "      <td>2019-10-09</td>\n",
       "      <td>United Kingdom</td>\n",
       "      <td>True</td>\n",
       "      <td>verified yesterday husband decided come home r...</td>\n",
       "    </tr>\n",
       "    <tr>\n",
       "      <th>4393</th>\n",
       "      <td>✅ Trip Verified | Flight from London to Athens...</td>\n",
       "      <td>10.0</td>\n",
       "      <td>2019-10-09</td>\n",
       "      <td>United Kingdom</td>\n",
       "      <td>True</td>\n",
       "      <td>verified flight london athens british airway o...</td>\n",
       "    </tr>\n",
       "    <tr>\n",
       "      <th>4394</th>\n",
       "      <td>Not Verified |  Short 45 minute flight north a...</td>\n",
       "      <td>2.0</td>\n",
       "      <td>2019-10-08</td>\n",
       "      <td>United Kingdom</td>\n",
       "      <td>False</td>\n",
       "      <td>verified short minute flight north south briti...</td>\n",
       "    </tr>\n",
       "    <tr>\n",
       "      <th>4395</th>\n",
       "      <td>Not Verified |  Calgary to Gothenburg via Lond...</td>\n",
       "      <td>2.0</td>\n",
       "      <td>2019-10-08</td>\n",
       "      <td>Canada</td>\n",
       "      <td>False</td>\n",
       "      <td>verified calgary gothenburg via london british...</td>\n",
       "    </tr>\n",
       "  </tbody>\n",
       "</table>\n",
       "<p>4396 rows × 6 columns</p>\n",
       "</div>"
      ],
      "text/plain": [
       "                                                reviews stars       date  \\\n",
       "0     Not Verified |  A nightmare journey courtesy o...   5.0 2024-09-08   \n",
       "1     ✅ Trip Verified | Absolutely atrocious. LHR-OR...   1.0 2024-09-06   \n",
       "2     ✅ Trip Verified | As someone who flies relentl...   1.0 2024-09-02   \n",
       "3     ✅ Trip Verified |   Flew with British Airways ...   4.0 2024-09-01   \n",
       "4     ✅ Trip Verified |   Straightforward check in T...   2.0 2024-08-30   \n",
       "...                                                 ...   ...        ...   \n",
       "4391  ✅ Trip Verified | Istanbul to New York via Lon...   1.0 2019-10-09   \n",
       "4392  ✅ Trip Verified |  Yesterday my husband and I ...   1.0 2019-10-09   \n",
       "4393  ✅ Trip Verified | Flight from London to Athens...  10.0 2019-10-09   \n",
       "4394  Not Verified |  Short 45 minute flight north a...   2.0 2019-10-08   \n",
       "4395  Not Verified |  Calgary to Gothenburg via Lond...   2.0 2019-10-08   \n",
       "\n",
       "             country  verified  \\\n",
       "0     United Kingdom     False   \n",
       "1     United Kingdom      True   \n",
       "2     United Kingdom      True   \n",
       "3     United Kingdom      True   \n",
       "4     United Kingdom      True   \n",
       "...              ...       ...   \n",
       "4391   United States      True   \n",
       "4392  United Kingdom      True   \n",
       "4393  United Kingdom      True   \n",
       "4394  United Kingdom     False   \n",
       "4395          Canada     False   \n",
       "\n",
       "                                                 corpus  \n",
       "0     verified nightmare journey courtesy british ai...  \n",
       "1     verified absolutely atrocious lhr ord lhr roun...  \n",
       "2     verified someone fly relentlessly british airw...  \n",
       "3     verified flew british airway club europe satur...  \n",
       "4     verified straightforward check new site club c...  \n",
       "...                                                 ...  \n",
       "4391  verified istanbul new york via london literall...  \n",
       "4392  verified yesterday husband decided come home r...  \n",
       "4393  verified flight london athens british airway o...  \n",
       "4394  verified short minute flight north south briti...  \n",
       "4395  verified calgary gothenburg via london british...  \n",
       "\n",
       "[4396 rows x 6 columns]"
      ]
     },
     "execution_count": 20,
     "metadata": {},
     "output_type": "execute_result"
    }
   ],
   "source": [
    "#resetting the index\n",
    "df.reset_index(drop=True)"
   ]
  },
  {
   "cell_type": "code",
   "execution_count": 21,
   "metadata": {},
   "outputs": [],
   "source": [
    "# export the cleaned data\n",
    "\n",
    "df.to_csv(cwd + \"/data/cleaned-BA-reviews.csv\")"
   ]
  }
 ],
 "metadata": {
  "kernelspec": {
   "display_name": "Python 3",
   "language": "python",
   "name": "python3"
  },
  "language_info": {
   "codemirror_mode": {
    "name": "ipython",
    "version": 3
   },
   "file_extension": ".py",
   "mimetype": "text/x-python",
   "name": "python",
   "nbconvert_exporter": "python",
   "pygments_lexer": "ipython3",
   "version": "3.12.3"
  }
 },
 "nbformat": 4,
 "nbformat_minor": 2
}
